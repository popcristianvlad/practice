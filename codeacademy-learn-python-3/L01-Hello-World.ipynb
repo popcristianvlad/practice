{
 "cells": [
  {
   "cell_type": "code",
   "execution_count": 1,
   "id": "0ad9d2e4-1e09-41d0-8df1-9303795f6971",
   "metadata": {},
   "outputs": [
    {
     "name": "stdout",
     "output_type": "stream",
     "text": [
      "Hello and welcome Vlad!\n"
     ]
    }
   ],
   "source": [
    "my_name = \"Vlad\"\n",
    "print(\"Hello and welcome \" + my_name + \"!\")"
   ]
  },
  {
   "cell_type": "code",
   "execution_count": 2,
   "id": "02175a71-a820-48e7-a985-26b6bc17eecd",
   "metadata": {},
   "outputs": [],
   "source": [
    "# A simple program design for learning purpose"
   ]
  },
  {
   "cell_type": "code",
   "execution_count": 3,
   "id": "66df254b-0530-4296-89d8-ec51c19b9e46",
   "metadata": {},
   "outputs": [
    {
     "name": "stdout",
     "output_type": "stream",
     "text": [
      "Hello world!\n"
     ]
    }
   ],
   "source": [
    "print(\"Hello world!\")"
   ]
  },
  {
   "cell_type": "code",
   "execution_count": 4,
   "id": "fbf927df-c6e7-4eeb-a44b-e25ae5da1360",
   "metadata": {},
   "outputs": [
    {
     "name": "stdout",
     "output_type": "stream",
     "text": [
      "Vlad\n",
      "Vlad\n"
     ]
    }
   ],
   "source": [
    "print(\"Vlad\")\n",
    "print('Vlad')"
   ]
  },
  {
   "cell_type": "code",
   "execution_count": 5,
   "id": "4bcdec80-1703-4d78-97bc-16cce9e6034b",
   "metadata": {},
   "outputs": [
    {
     "name": "stdout",
     "output_type": "stream",
     "text": [
      "Breakfast:\n",
      "An english muffin\n",
      "Lunch:\n",
      "Salad\n",
      "Dinner:\n",
      "Stake\n"
     ]
    }
   ],
   "source": [
    "# We've defined the variable \"meal\" here to the name of the food we ate for breakfast!\n",
    "meal = \"An english muffin\"\n",
    "\n",
    "# Printing out breakfast\n",
    "print(\"Breakfast:\")\n",
    "print(meal)\n",
    "\n",
    "# Now update meal to be lunch!\n",
    "meal = \"Salad\"\n",
    "\n",
    "# Printing out lunch\n",
    "print(\"Lunch:\")\n",
    "print(meal)\n",
    "\n",
    "# Now update \"meal\" to be dinner\n",
    "meal = \"Stake\"\n",
    "\n",
    "# Printing out dinner\n",
    "print(\"Dinner:\")\n",
    "print(meal)"
   ]
  },
  {
   "cell_type": "code",
   "execution_count": 6,
   "id": "63ae5237-b293-4c50-8c3e-e7248ad3a470",
   "metadata": {},
   "outputs": [
    {
     "name": "stdout",
     "output_type": "stream",
     "text": [
      "This message has mismatched quote marks!\n",
      "Abracadabra\n"
     ]
    }
   ],
   "source": [
    "print(\"This message has mismatched quote marks!\")\n",
    "Abracadabra = \"Abracadabra\"\n",
    "print(Abracadabra)"
   ]
  },
  {
   "cell_type": "code",
   "execution_count": 7,
   "id": "db758343-7009-4281-b464-aab91df76b6f",
   "metadata": {},
   "outputs": [],
   "source": [
    "# Define the release and runtime integer variables below:\n",
    "release_year = 1995\n",
    "runtime = 20\n",
    "\n",
    "# Define the rating_out_of_10 float variable below: \n",
    "rating_out_of_10 = 8.2"
   ]
  },
  {
   "cell_type": "code",
   "execution_count": 8,
   "id": "08543216-162e-4dde-9e65-3ea8bbd22639",
   "metadata": {},
   "outputs": [
    {
     "name": "stdout",
     "output_type": "stream",
     "text": [
      "1700.4642857142858\n"
     ]
    }
   ],
   "source": [
    "print(25 * 68 + 13 / 28)"
   ]
  }
 ],
 "metadata": {
  "kernelspec": {
   "display_name": "Python 3 (ipykernel)",
   "language": "python",
   "name": "python3"
  },
  "language_info": {
   "codemirror_mode": {
    "name": "ipython",
    "version": 3
   },
   "file_extension": ".py",
   "mimetype": "text/x-python",
   "name": "python",
   "nbconvert_exporter": "python",
   "pygments_lexer": "ipython3",
   "version": "3.11.5"
  }
 },
 "nbformat": 4,
 "nbformat_minor": 5
}
