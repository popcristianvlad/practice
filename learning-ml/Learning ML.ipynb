{
 "cells": [
  {
   "cell_type": "code",
   "execution_count": 8,
   "id": "8a3ded13-5f75-40bb-823a-66ee7d82797b",
   "metadata": {},
   "outputs": [
    {
     "name": "stdout",
     "output_type": "stream",
     "text": [
      "Learning ML\n"
     ]
    }
   ],
   "source": [
    "print(\"Learning ML\")"
   ]
  },
  {
   "cell_type": "code",
   "execution_count": null,
   "id": "34fd7a31-481d-4c75-bbe8-425bd9bc1e84",
   "metadata": {},
   "outputs": [],
   "source": []
  }
 ],
 "metadata": {
  "kernelspec": {
   "display_name": "Python 3 (ipykernel)",
   "language": "python",
   "name": "python3"
  },
  "language_info": {
   "codemirror_mode": {
    "name": "ipython",
    "version": 3
   },
   "file_extension": ".py",
   "mimetype": "text/x-python",
   "name": "python",
   "nbconvert_exporter": "python",
   "pygments_lexer": "ipython3",
   "version": "3.11.5"
  }
 },
 "nbformat": 4,
 "nbformat_minor": 5
}
