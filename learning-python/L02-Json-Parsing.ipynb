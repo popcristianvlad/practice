{
 "cells": [
  {
   "cell_type": "code",
   "execution_count": 1,
   "id": "5e9a9a9b-3aa5-4858-a308-a9fd1e8fed8b",
   "metadata": {},
   "outputs": [
    {
     "name": "stdout",
     "output_type": "stream",
     "text": [
      "                                    _id  match_id  country_id country_name  \\\n",
      "0  {'$oid': '64f77cd14511777188783677'}    387150          44      England   \n",
      "1  {'$oid': '64f77cd14511777188783678'}    387151          44      England   \n",
      "\n",
      "   league_id     league_name  match_date match_status          match_time  \\\n",
      "0        152  Premier League  2020-01-01     Finished 2023-09-06 13:30:00   \n",
      "1        152  Premier League  2020-01-01     Finished 2023-09-06 13:30:00   \n",
      "\n",
      "   match_hometeam_id  ...                                       country_logo  \\\n",
      "0               3079  ...  https://apiv3.apifootball.com/badges/logo_coun...   \n",
      "1               3075  ...  https://apiv3.apifootball.com/badges/logo_coun...   \n",
      "\n",
      "   league_year fk_stage_key  stage_name  \\\n",
      "0    2019/2020            6     Current   \n",
      "1    2019/2020            6     Current   \n",
      "\n",
      "                                          goalscorer  cards  \\\n",
      "0  [{'time': '10', 'home_scorer': '', 'home_score...     []   \n",
      "1  [{'time': '27', 'home_scorer': '', 'home_score...     []   \n",
      "\n",
      "              substitutions  \\\n",
      "0  {'home': [], 'away': []}   \n",
      "1  {'home': [], 'away': []}   \n",
      "\n",
      "                                              lineup statistics  \\\n",
      "0  {'home': {'starting_lineups': [], 'substitutes...         []   \n",
      "1  {'home': {'starting_lineups': [], 'substitutes...         []   \n",
      "\n",
      "  statistics_1half  \n",
      "0               []  \n",
      "1               []  \n",
      "\n",
      "[2 rows x 42 columns]\n"
     ]
    }
   ],
   "source": [
    "import pandas as pd\n",
    "\n",
    "df = pd.read_json(\"./files/premierLeague.json\")\n",
    "\n",
    "print(df)"
   ]
  }
 ],
 "metadata": {
  "kernelspec": {
   "display_name": "Python 3 (ipykernel)",
   "language": "python",
   "name": "python3"
  },
  "language_info": {
   "codemirror_mode": {
    "name": "ipython",
    "version": 3
   },
   "file_extension": ".py",
   "mimetype": "text/x-python",
   "name": "python",
   "nbconvert_exporter": "python",
   "pygments_lexer": "ipython3",
   "version": "3.11.5"
  }
 },
 "nbformat": 4,
 "nbformat_minor": 5
}
