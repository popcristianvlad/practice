{
 "cells": [
  {
   "cell_type": "code",
   "execution_count": 2,
   "id": "ae2fc15f-746d-4c71-b23d-ad5eb3c8046e",
   "metadata": {},
   "outputs": [
    {
     "name": "stdout",
     "output_type": "stream",
     "text": [
      "Translated(src=en, dest=ro, text=Buna ziua. Ce mai faci ?, pronunciation=None, extra_data=\"{'translat...\")\n",
      "Buna ziua. Ce mai faci ?\n"
     ]
    }
   ],
   "source": [
    "from googletrans import Translator\n",
    "\n",
    "translater = Translator()\n",
    "\n",
    "out = translater.translate(\"Hello. How are you ?\", dest=\"ro\")\n",
    "\n",
    "print(out)\n",
    "print(out.text)"
   ]
  }
 ],
 "metadata": {
  "kernelspec": {
   "display_name": "Python 3 (ipykernel)",
   "language": "python",
   "name": "python3"
  },
  "language_info": {
   "codemirror_mode": {
    "name": "ipython",
    "version": 3
   },
   "file_extension": ".py",
   "mimetype": "text/x-python",
   "name": "python",
   "nbconvert_exporter": "python",
   "pygments_lexer": "ipython3",
   "version": "3.11.5"
  }
 },
 "nbformat": 4,
 "nbformat_minor": 5
}
