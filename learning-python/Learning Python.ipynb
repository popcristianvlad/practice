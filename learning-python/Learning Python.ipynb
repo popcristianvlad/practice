{
 "cells": [
  {
   "cell_type": "code",
   "execution_count": 1,
   "id": "bd9a9850-09a4-4020-8356-0eb297442bf7",
   "metadata": {},
   "outputs": [
    {
     "name": "stdout",
     "output_type": "stream",
     "text": [
      "Learning python\n"
     ]
    }
   ],
   "source": [
    "print('Learning python')"
   ]
  }
 ],
 "metadata": {
  "kernelspec": {
   "display_name": "Python 3 (ipykernel)",
   "language": "python",
   "name": "python3"
  },
  "language_info": {
   "codemirror_mode": {
    "name": "ipython",
    "version": 3
   },
   "file_extension": ".py",
   "mimetype": "text/x-python",
   "name": "python",
   "nbconvert_exporter": "python",
   "pygments_lexer": "ipython3",
   "version": "3.11.5"
  }
 },
 "nbformat": 4,
 "nbformat_minor": 5
}
