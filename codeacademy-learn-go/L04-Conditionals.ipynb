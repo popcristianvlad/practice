{
 "cells": [
  {
   "cell_type": "code",
   "execution_count": 6,
   "id": "e2766538-131c-489e-966c-de4d2be8d8fd",
   "metadata": {},
   "outputs": [
    {
     "name": "stdout",
     "output_type": "stream",
     "text": [
      "Turn off the alarm!!\n"
     ]
    }
   ],
   "source": [
    "// package main\n",
    "\n",
    "import \"fmt\"\n",
    "\n",
    "func main() {\n",
    "  heistReady := false\n",
    "  if heistReady {\n",
    "    fmt.Println(\"Let's Go!\")\n",
    "  }\n",
    "  alarmRinging := true\n",
    "  if (alarmRinging) {\n",
    "    fmt.Println(\"Turn off the alarm!!\") \n",
    "  }\n",
    "}"
   ]
  },
  {
   "cell_type": "code",
   "execution_count": 8,
   "id": "91230cee-8dd8-46db-bf03-05fb7112c84c",
   "metadata": {},
   "outputs": [
    {
     "name": "stdout",
     "output_type": "stream",
     "text": [
      "Act normal.\n"
     ]
    }
   ],
   "source": [
    "// package main\n",
    "\n",
    "import \"fmt\"\n",
    "\n",
    "func main() {\n",
    "  heistReady := false\n",
    "\t\n",
    "  if heistReady {\n",
    "\tfmt.Println(\"Let's go!\")\n",
    "  } else {\n",
    "    fmt.Println(\"Act normal.\")\n",
    "  }\n",
    "}"
   ]
  },
  {
   "cell_type": "code",
   "execution_count": 10,
   "id": "af932b36-5f4d-4861-9529-ed999410f6fd",
   "metadata": {},
   "outputs": [],
   "source": [
    "// package main\n",
    "\n",
    "import \"fmt\"\n",
    "\n",
    "func main() {\n",
    "  // == Is equal to\n",
    "  // != Is NOT equal to\n",
    "\n",
    "  lockCombo := \"2-35-19\"\n",
    "  robAttempt := \"1-1-1\"\n",
    "\n",
    "  // Add your code below:\n",
    "  if lockCombo == robAttempt {\n",
    "    fmt.Println(\"The vault is now opened.\")\n",
    "  }\n",
    "}"
   ]
  },
  {
   "cell_type": "code",
   "execution_count": 12,
   "id": "e9de9a2b-c806-4d16-b127-42db835f033f",
   "metadata": {},
   "outputs": [
    {
     "name": "stdout",
     "output_type": "stream",
     "text": [
      "We're going to need more bags.\n"
     ]
    }
   ],
   "source": [
    "// package main\n",
    "\n",
    "import \"fmt\"\n",
    "\n",
    "func main() {\n",
    "  // < Less than\n",
    "  // > Greater than\n",
    "  // <= Less than or equal to\n",
    "  // >= Greater than or eqaul to\n",
    "\n",
    "  vaultAmt := 2356468\n",
    "\t\n",
    "  // Add your code below:\n",
    "  if vaultAmt >= 200000 {\n",
    "    fmt.Println(\"We're going to need more bags.\")\n",
    "  }\n",
    "}"
   ]
  },
  {
   "cell_type": "code",
   "execution_count": 14,
   "id": "ff7c6dca-a60e-4c88-8d28-3a7cd1c37f86",
   "metadata": {},
   "outputs": [
    {
     "name": "stdout",
     "output_type": "stream",
     "text": [
      "We're outta here!\n",
      "Grab everything!\n"
     ]
    }
   ],
   "source": [
    "// package main\n",
    "\n",
    "import \"fmt\"\n",
    "\n",
    "func main() {\n",
    "    // && And\n",
    "    // || Or\n",
    "    // ! not\n",
    "\n",
    "\trightTime := true\n",
    "\trightPlace := true\n",
    "\n",
    "\t// Edit this condition for the FIRST checkpoint\n",
    "\tif rightTime && rightPlace {\n",
    "\t\tfmt.Println(\"We're outta here!\")\n",
    "\t} else {\n",
    "\t\tfmt.Println(\"Be patient...\")\n",
    "\t}\n",
    "\n",
    "\tenoughRobbers := false\n",
    "\tenoughBags := true\n",
    "\n",
    "\t// Edit this condition for the SECOND checkpoint\n",
    "\tif enoughRobbers || enoughBags {\n",
    "\t\tfmt.Println(\"Grab everything!\")\n",
    "\t} else {\n",
    "\t\tfmt.Println(\"Grab whatever you can!\")\n",
    "\t}\n",
    "}"
   ]
  },
  {
   "cell_type": "code",
   "execution_count": 15,
   "id": "ad119053-e2db-466e-847d-9805581e9bd5",
   "metadata": {},
   "outputs": [
    {
     "name": "stdout",
     "output_type": "stream",
     "text": [
      "What are we waiting for??\n"
     ]
    }
   ],
   "source": [
    "// package main\n",
    "\n",
    "import \"fmt\"\n",
    "\n",
    "func main() {\n",
    "\treadyToGo := true\n",
    "\n",
    "\tif !readyToGo {\n",
    "\t\tfmt.Println(\"Start the car!\")\n",
    "\t} else {\n",
    "\t\tfmt.Println(\"What are we waiting for??\")\n",
    "\t}\n",
    "}"
   ]
  },
  {
   "cell_type": "code",
   "execution_count": 16,
   "id": "63301d3c-727d-4cba-a9c8-90e5fe6c11ea",
   "metadata": {},
   "outputs": [
    {
     "name": "stdout",
     "output_type": "stream",
     "text": [
      "Think of all the candy we can buy!\n"
     ]
    }
   ],
   "source": [
    "// package main\n",
    "\n",
    "import \"fmt\"\n",
    "\n",
    "func main() {\n",
    "\tamountStolen := 64650\n",
    "\n",
    "\tif amountStolen > 1000000 {\n",
    "\t\tfmt.Println(\"We've hit the jackpot!\")\n",
    "    } else if amountStolen >= 5000 {\n",
    "        fmt.Println(\"Think of all the candy we can buy!\")\n",
    "    } else {\n",
    "\t\tfmt.Println(\"Why did we even do this?\")\n",
    "\t}\n",
    "}"
   ]
  },
  {
   "cell_type": "code",
   "execution_count": 17,
   "id": "9eb174b0-6e94-4b7c-b896-fb07aad0abb5",
   "metadata": {},
   "outputs": [
    {
     "name": "stdout",
     "output_type": "stream",
     "text": [
      "Just hide!\n"
     ]
    }
   ],
   "source": [
    "// package main\n",
    "\n",
    "import \"fmt\"\n",
    "\n",
    "func main() {\n",
    "\tname := \"H. J. Simp\"\n",
    "\n",
    "\t// Add your switch statement below:\n",
    "\tswitch name {\n",
    "    case \"Butch\":\n",
    "      fmt.Println(\"Head to Robbers Roost.\")\n",
    "    case \"Bonnie\":\n",
    "      fmt.Println(\"Stay put in Joplin.\")\n",
    "    default:\n",
    "      fmt.Println(\"Just hide!\")\n",
    "  }\n",
    "}"
   ]
  },
  {
   "cell_type": "code",
   "execution_count": 19,
   "id": "a76f1b04-9002-4ead-a2a2-07cd84ef587b",
   "metadata": {},
   "outputs": [
    {
     "name": "stdout",
     "output_type": "stream",
     "text": [
      "We're rich!\n",
      "Everyone gets $ 10000\n"
     ]
    }
   ],
   "source": [
    "// package main\n",
    "\n",
    "import \"fmt\"\n",
    "\n",
    "func main() {\n",
    "    // Scoped Short Declaration Statement\n",
    "\tif success := true; success {\n",
    "\t\tfmt.Println(\"We're rich!\")\n",
    "\t} else {\n",
    "\t\tfmt.Println(\"Where did we go wrong?\")\n",
    "\t}\n",
    "\n",
    "\tamountStolen := 50000\n",
    "\n",
    "\tswitch numOfThieves := 5; numOfThieves {\n",
    "\tcase 1:\n",
    "\t\tfmt.Println(\"I'll take all $\", amountStolen)\n",
    "\tcase 2:\n",
    "\t  fmt.Println(\"Everyone gets $\", amountStolen/2)\n",
    "\tcase 3:\n",
    "\t\tfmt.Println(\"Everyone gets $\", amountStolen/3)\n",
    "\tcase 4:\n",
    "\t  fmt.Println(\"Everyone gets $\", amountStolen/4)\n",
    "\tcase 5:\n",
    "\t\tfmt.Println(\"Everyone gets $\", amountStolen/5)\n",
    "\tdefault:\n",
    "\t\tfmt.Println(\"There's not enough to go around...\")\n",
    "\t}\n",
    "}"
   ]
  },
  {
   "cell_type": "code",
   "execution_count": 22,
   "id": "3caaf693-fe15-4771-9754-f21baade3fcd",
   "metadata": {},
   "outputs": [
    {
     "name": "stdout",
     "output_type": "stream",
     "text": [
      "amountLeft is:  8286\n",
      "What should I spend this on?\n"
     ]
    }
   ],
   "source": [
    "// package main\n",
    "\n",
    "import (\n",
    "\t\"fmt\"\n",
    "  \"math/rand\"\n",
    ")\n",
    "\n",
    "func main() {\n",
    "\t// Edit amountLeft below: \n",
    "    amountLeft := rand.Intn(10000)\n",
    "  \n",
    "    fmt.Println(\"amountLeft is: \", amountLeft)\n",
    "  \n",
    "\tif amountLeft > 5000 {\n",
    "\t\tfmt.Println(\"What should I spend this on?\")\n",
    "    } else {\n",
    "        fmt.Println(\"Where did all my money go?\")\n",
    "    }\n",
    "}"
   ]
  },
  {
   "cell_type": "code",
   "execution_count": 24,
   "id": "306c20d5-49c5-4117-a72a-11c2bd005267",
   "metadata": {},
   "outputs": [
    {
     "name": "stdout",
     "output_type": "stream",
     "text": [
      "amountLeft is:  1330\n",
      "Where did all my money go?\n"
     ]
    }
   ],
   "source": [
    "// package main\n",
    "\n",
    "import (\n",
    "\t\"fmt\"\n",
    "    \"math/rand\"\n",
    "    \"time\"\n",
    ")\n",
    "\n",
    "func main() {\n",
    "\t// Add your code below:\n",
    "    rand.Seed(time.Now().UnixNano())\n",
    "    amountLeft := rand.Intn(10000)\n",
    "  \n",
    "    fmt.Println(\"amountLeft is: \", amountLeft)\n",
    "  \n",
    "\tif amountLeft > 5000 {\n",
    "\t\tfmt.Println(\"What should I spend this on?\")\n",
    "    } else {\n",
    "        fmt.Println(\"Where did all my money go?\")\n",
    "    }\n",
    "}"
   ]
  },
  {
   "cell_type": "code",
   "execution_count": 26,
   "id": "e484f4cd-a721-4d21-a6b8-3234957088fc",
   "metadata": {},
   "outputs": [
    {
     "name": "stdout",
     "output_type": "stream",
     "text": [
      "Great job! You can continue on to the next exercise.\n"
     ]
    }
   ],
   "source": [
    "// package main\n",
    "\n",
    "import \"fmt\"\n",
    "\n",
    "func main() {\n",
    "  if lessonLearned := true; lessonLearned {\n",
    "    fmt.Println(\"Great job! You can continue on to the next exercise.\")\n",
    "  } else {\n",
    "    fmt.Println(\"Practice makes perfect.\")\n",
    "  }\n",
    "  // Create more conditions below! \n",
    "}"
   ]
  },
  {
   "cell_type": "code",
   "execution_count": 27,
   "id": "8180fd01-c376-4cf0-8c04-e35d56fb6220",
   "metadata": {},
   "outputs": [
    {
     "name": "stdout",
     "output_type": "stream",
     "text": [
      "Plan a better disguise next time?\n",
      "false\n"
     ]
    }
   ],
   "source": [
    "// package main\n",
    "\n",
    "import (\n",
    "  \"fmt\"\n",
    "  \"math/rand\"\n",
    "  \"time\"\n",
    ")\n",
    "\n",
    "func main() {\n",
    "  rand.Seed(time.Now().UnixNano())\n",
    "\n",
    "  isHeistOn := true\n",
    "  eludedGuards := rand.Intn(100)\n",
    "\n",
    "  if eludedGuards >= 50 {\n",
    "    fmt.Println(\"Looks like you've managed to make it past the guards. Good job, but remember, this is the first step.\")\n",
    "  } else {\n",
    "    isHeistOn = false\n",
    "    fmt.Println(\"Plan a better disguise next time?\")\n",
    "  }\n",
    "\n",
    "  leftSafely := rand.Intn(5)\n",
    "\n",
    "  if openedVault := rand.Intn(100); isHeistOn && openedVault >= 70 {\n",
    "    fmt.Println(\"Grab and GO!\")\n",
    "  } else if isHeistOn {\n",
    "    isHeistOn = false\n",
    "    fmt.Println(\"Vault can't pe opened.\")\n",
    "  }\n",
    "\n",
    "  if isHeistOn {\n",
    "    switch leftSafely {\n",
    "      case 0:\n",
    "        isHeistOn = false\n",
    "        fmt.Print(\"Turns out vault doors don't open from the inside...\")  \n",
    "      case 1: \n",
    "        isHeistOn = false \n",
    "        fmt.Print(\"Turns out vault doors don't open from the inside...\")  \n",
    "      case 2: \n",
    "        isHeistOn = false \n",
    "        fmt.Print(\"Turns out vault doors don't open from the inside...\")  \n",
    "      case 3: \n",
    "        isHeistOn = false \n",
    "        fmt.Print(\"Turns out vault doors don't open from the inside...\")  \n",
    "      default:\n",
    "        fmt.Print(\"Start the getaway car!\")\n",
    "    }\n",
    "  }\n",
    "\n",
    "  if isHeistOn {\n",
    "    amtStolen := 10000 + rand.Intn(1000000)\n",
    "    fmt.Println(amtStolen)\n",
    "  }\n",
    "\n",
    "  fmt.Println(isHeistOn)\n",
    "}"
   ]
  }
 ],
 "metadata": {
  "kernelspec": {
   "display_name": "Go (gonb)",
   "language": "go",
   "name": "gonb"
  },
  "language_info": {
   "codemirror_mode": "",
   "file_extension": ".go",
   "mimetype": "",
   "name": "go",
   "nbconvert_exporter": "",
   "pygments_lexer": "",
   "version": "go1.21.0"
  }
 },
 "nbformat": 4,
 "nbformat_minor": 5
}
