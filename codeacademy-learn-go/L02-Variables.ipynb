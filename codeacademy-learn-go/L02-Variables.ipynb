{
 "cells": [
  {
   "cell_type": "code",
   "execution_count": 2,
   "id": "9c22a8dc-c07f-4280-8b79-782730158cb8",
   "metadata": {},
   "outputs": [
    {
     "name": "stdout",
     "output_type": "stream",
     "text": [
      "Current station: Union Square\n",
      "Next train: 12 minutes\n",
      "Is uptown: false\n",
      "\n",
      "Current station: Grand Central\n",
      "Next train: 3 minutes\n",
      "Is uptown: true\n"
     ]
    }
   ],
   "source": [
    "// package main\n",
    "\n",
    "import \"fmt\"\n",
    "\n",
    "func main() {\n",
    "  var stationName string\n",
    "  var nextTrainTime int8\n",
    "  var isUptownTrain bool\n",
    "  \n",
    "  stationName = \"Union Square\"\n",
    "  nextTrainTime = 12\n",
    "  isUptownTrain = false\n",
    "  \n",
    "  fmt.Println(\"Current station:\", stationName)\n",
    "  fmt.Println(\"Next train:\", nextTrainTime, \"minutes\")\n",
    "  fmt.Println(\"Is uptown:\", isUptownTrain)\n",
    "  \n",
    "  stationName = \"Grand Central\"\n",
    "  nextTrainTime = 3\n",
    "  isUptownTrain = true\n",
    "  \n",
    "  fmt.Println(\"\")\n",
    "  fmt.Println(\"Current station:\", stationName)\n",
    "  fmt.Println(\"Next train:\", nextTrainTime, \"minutes\")\n",
    "  fmt.Println(\"Is uptown:\", isUptownTrain)\n",
    "}"
   ]
  },
  {
   "cell_type": "code",
   "execution_count": 3,
   "id": "fdb03e30-056d-482d-b5aa-891cb152eff6",
   "metadata": {},
   "outputs": [
    {
     "name": "stdout",
     "output_type": "stream",
     "text": [
      "2751285\n"
     ]
    }
   ],
   "source": [
    "// package main\n",
    "\n",
    "import \"fmt\"\n",
    "\n",
    "func main() {\n",
    "  // Add a fmt.Println() statement\n",
    "  // that prints 2235 * 1231\n",
    "  fmt.Println(2235*1231)\n",
    "}"
   ]
  },
  {
   "cell_type": "code",
   "execution_count": 4,
   "id": "e6fd2572-d13f-4fb3-a67b-0e3d75d3226e",
   "metadata": {},
   "outputs": [
    {
     "name": "stdout",
     "output_type": "stream",
     "text": [
      "9.80665\n"
     ]
    }
   ],
   "source": [
    "// package main\n",
    "\n",
    "import \"fmt\"\n",
    "\n",
    "func main() {\n",
    "  const earthsGravity = 9.80665\n",
    "  // Create the constant earthsGravity\n",
    "  // here and set it to 9.80665\n",
    "  \n",
    "  // Here's where we print out the gravity:\n",
    "  fmt.Println(earthsGravity)\n",
    "}"
   ]
  },
  {
   "cell_type": "code",
   "execution_count": 5,
   "id": "07a0a885-5169-46fe-8b48-194d0c61be57",
   "metadata": {},
   "outputs": [
    {
     "data": {
      "text/html": [
       "\n",
       "<style>\n",
       ".gonb-err-location {\n",
       "\tbackground: var(--jp-err-color2);  \n",
       "\tborder-radius: 3px;\n",
       "\tborder-style: dotted;\n",
       "\tborder-width: 1px;\n",
       "\tborder-color: var(--jp-border-color2);\n",
       "}\n",
       ".gonb-err-location:hover {\n",
       "\tborder-width: 2px;\n",
       "\tborder-style: solid;\n",
       "\tborder-color: var(--jp-border-color2);\n",
       "}\n",
       ".gonb-err-context {\n",
       "\tdisplay: none;\n",
       "}\n",
       ".gonb-err-location:hover + .gonb-err-context {\n",
       "\tbackground: var(--jp-dialog-background);  \n",
       "\tborder-radius: 3px;\n",
       "\tborder-style: solid;\n",
       "\tborder-width: 1px;\n",
       "\tborder-color: var(--jp-border-color2);\n",
       "\tdisplay: block;\n",
       "\twhite-space: pre;\n",
       "\tfont-family: monospace;\n",
       "}\n",
       ".gonb-err-line {\n",
       "\tborder-radius: 3px;\n",
       "\tborder-style: dotted;\n",
       "\tborder-width: 1px;\t\n",
       "\tborder-color: var(--jp-border-color2);\n",
       "\tbackground-color: var(--jp-rendermime-err-background);\n",
       "\tfont-weight: bold;\n",
       "}\n",
       ".gonb-cell-line-info {\n",
       "\tbackground: var(--jp-layout-color2);\n",
       "\tcolor: #999;\n",
       "\tmargin: 0.1em;\n",
       "\tborder: 1px solid var(--jp-border-color1);\n",
       "\tpadding-left: 0.2em;\n",
       "\tpadding-right: 0.2em;\n",
       "}\n",
       "</style>\n",
       "<div class=\"lm-Widget p-Widget lm-Panel p-Panel jp-OutputArea-child\">\n",
       "<div class=\"lm-Widget p-Widget jp-RenderedText jp-mod-trusted jp-OutputArea-output\" data-mime-type=\"application/vnd.jupyter.stderr\" style=\"font-family: monospace;\">\n",
       "\n",
       "\n",
       "<span style=\"white-space: pre;\"> # gonb_fab40d5a</span>\n",
       "\n",
       "<br/>\n",
       "\n",
       "<span class=\"gonb-cell-line-info\">Cell[5]: Line 4</span>\n",
       "<span class=\"gonb-err-location\">./main.go:5:7: </span> jellybeanCounter declared and not used\n",
       "<div class=\"gonb-err-context\">\n",
       "\n",
       "\n",
       "func main() {\n",
       "<div class=\"gonb-err-line\">  var jellybeanCounter int8\n",
       "</div>}\n",
       "\n",
       "\n",
       "</div>\n",
       "\n",
       "<br/>\n",
       "\n",
       "\n",
       "<span style=\"white-space: pre;\"> </span>\n",
       "\n",
       "<br/>\n",
       "\n",
       "</div>\n"
      ]
     },
     "metadata": {},
     "output_type": "display_data"
    },
    {
     "ename": "ERROR",
     "evalue": "failed to run \"/usr/local/go/bin/go build -o /tmp/gonb_fab40d5a/gonb_fab40d5a\": exit status 1",
     "output_type": "error",
     "traceback": [
      "failed to run \"/usr/local/go/bin/go build -o /tmp/gonb_fab40d5a/gonb_fab40d5a\": exit status 1"
     ]
    }
   ],
   "source": [
    "// package main\n",
    "\n",
    "func main() {\n",
    "  var jellybeanCounter int8\n",
    "}"
   ]
  },
  {
   "cell_type": "code",
   "execution_count": 6,
   "id": "ef2f6773-e9e9-4c8d-bb31-b523bd3ce5df",
   "metadata": {},
   "outputs": [
    {
     "name": "stdout",
     "output_type": "stream",
     "text": [
      "0\n"
     ]
    }
   ],
   "source": [
    "// package main\n",
    "\n",
    "import \"fmt\"\n",
    "\n",
    "func main() {\n",
    "  var jellybeanCounter int8\n",
    "  \n",
    "  // Go will raise errors both for\n",
    "  // jellybeanCounter being unused\n",
    "  // and for \"fmt\" being imported\n",
    "  // and unused.\n",
    "  \n",
    "  // Uncomment the following line\n",
    "  // and watch the program run\n",
    "  // successfully!\n",
    "  \n",
    "  fmt.Println(jellybeanCounter)\n",
    "}"
   ]
  },
  {
   "cell_type": "code",
   "execution_count": 7,
   "id": "4380a5ce-7ac9-48ff-a060-92e84afea159",
   "metadata": {},
   "outputs": [
    {
     "name": "stdout",
     "output_type": "stream",
     "text": [
      "57\n",
      "5.8\n"
     ]
    }
   ],
   "source": [
    "// package main\n",
    "\n",
    "import \"fmt\"\n",
    "\n",
    "func main() {\n",
    "  var numOfFlavors int\n",
    "  // Assign a value for numOfFlavors below:\n",
    "\n",
    "  numOfFlavors = 57\n",
    "  \n",
    "  \n",
    "  fmt.Println(numOfFlavors)\n",
    "  \n",
    "  // Declare flavorScale below:\n",
    "  var flavorScale float32 = 5.8\n",
    "\n",
    "  fmt.Println(flavorScale)\n",
    "}"
   ]
  },
  {
   "cell_type": "code",
   "execution_count": 8,
   "id": "a837c277-de77-4d1d-8bd1-e814cc410f1e",
   "metadata": {},
   "outputs": [
    {
     "name": "stdout",
     "output_type": "stream",
     "text": [
      "My favorite snack is Mars\n"
     ]
    }
   ],
   "source": [
    "// package main\n",
    "\n",
    "import \"fmt\"\n",
    "\n",
    "func main() {\n",
    "  // Define a string variable\n",
    "  // called favoriteSnack\n",
    "  var favoriteSnack string\n",
    "  \n",
    "  // Assign a value to\n",
    "  // favoriteSnack\n",
    "  favoriteSnack = \"Mars\"\n",
    "  \n",
    "  // Print out the message\n",
    "  // \"My favorite snack is \"\n",
    "  // followed by the value in\n",
    "  // favoriteSnack\n",
    "  fmt.Println(\"My favorite snack is \" + favoriteSnack)\n",
    "}"
   ]
  },
  {
   "cell_type": "code",
   "execution_count": 9,
   "id": "7f6c64b5-0d9f-454d-a789-77fefee9aa8a",
   "metadata": {},
   "outputs": [
    {
     "name": "stdout",
     "output_type": "stream",
     "text": [
      "0 0 \n"
     ]
    }
   ],
   "source": [
    "// package main\n",
    "\n",
    "import \"fmt\"\n",
    "\n",
    "func main() {\n",
    "  // Create three variables\n",
    "  // emptyInt an int8\n",
    "  var emptyInt int8\n",
    "  \n",
    "  // emptyFloat a float32\n",
    "  var emptyFloat float32\n",
    "\n",
    "  // and emptyString a string\n",
    "  var emptyString string\n",
    "  \n",
    "  // Finally, print them all out\n",
    "  fmt.Println(emptyInt, emptyFloat, emptyString)\n",
    "}"
   ]
  },
  {
   "cell_type": "code",
   "execution_count": 10,
   "id": "6e1e61c3-4578-4aa2-812b-e72c0fb8374e",
   "metadata": {},
   "outputs": [
    {
     "name": "stdout",
     "output_type": "stream",
     "text": [
      "You have spent 96 hours on vacation.\n"
     ]
    }
   ],
   "source": [
    "// package main\n",
    "\n",
    "import \"fmt\"\n",
    "\n",
    "func main() {\n",
    "  // Define daysOnVacation using := below:\n",
    "  daysOnVacation := 4\n",
    "  \n",
    "  \n",
    "  // Define hoursInDay using var and = below:\n",
    "  var hoursInDay = 24\n",
    "  \n",
    "  fmt.Println(\"You have spent\", daysOnVacation * hoursInDay, \"hours on vacation.\")\n",
    "}"
   ]
  },
  {
   "cell_type": "code",
   "execution_count": 11,
   "id": "15d8869a-ff95-4c0e-83f3-5fe9b4d1dc23",
   "metadata": {},
   "outputs": [
    {
     "name": "stdout",
     "output_type": "stream",
     "text": [
      "42\n"
     ]
    }
   ],
   "source": [
    "// package main\n",
    "\n",
    "import \"fmt\"\n",
    "\n",
    "func main() {\n",
    "  // Define cupsOfCoffeeConsumed here\n",
    "  var cupsOfCoffeeConsumed int\n",
    "\n",
    "  // Give a value to cupsOfCoffeeConsumed\n",
    "  cupsOfCoffeeConsumed = 42\n",
    "\n",
    "  // Print out cupsOfCoffeeConsumed\n",
    "  fmt.Println(cupsOfCoffeeConsumed)\n",
    "}"
   ]
  },
  {
   "cell_type": "code",
   "execution_count": 12,
   "id": "5cac9f2e-fb45-40cf-bd2c-9e8f9542e1af",
   "metadata": {},
   "outputs": [
    {
     "name": "stdout",
     "output_type": "stream",
     "text": [
      "Purchase of 111.49 with 8.875% sales tax 9.8947375 equal to 121.3847375\n"
     ]
    }
   ],
   "source": [
    "// package main\n",
    "\n",
    "import \"fmt\"\n",
    "\n",
    "func main() {\n",
    "  coolSneakers := 65.99\n",
    "  niceNecklace := 45.50\n",
    "  \n",
    "  // Define taxCalculation here\n",
    "  var taxCalculation float64\n",
    "\n",
    "  // Add coolSneakers to taxCalculation\n",
    "  taxCalculation += coolSneakers\n",
    "  \n",
    "  // Add niceNecklace to taxCalculation\n",
    "  taxCalculation += niceNecklace\n",
    "\n",
    "  // Compute the NYC sales tax\n",
    "  // 8.875% of the purchase here:\n",
    "  taxCalculation *= .08875\n",
    "  \n",
    "  // Uncomment this line for a receipt!\n",
    "  fmt.Println(\"Purchase of\", coolSneakers + niceNecklace, \"with 8.875% sales tax\", taxCalculation, \"equal to\", coolSneakers + niceNecklace + taxCalculation)\n",
    "}"
   ]
  },
  {
   "cell_type": "code",
   "execution_count": 13,
   "id": "b8af5e05-4211-4fe6-8006-373c812d2f30",
   "metadata": {},
   "outputs": [
    {
     "name": "stdout",
     "output_type": "stream",
     "text": [
      "magicNum is: 2048 powerLevel is: 9001\n",
      "10 doll hairs , that's expensive...\n"
     ]
    }
   ],
   "source": [
    "// package main\n",
    "\n",
    "import \"fmt\"\n",
    "\n",
    "func main () {\n",
    "  // Define magicNum and powerLevel below:\n",
    "  var magicNum, powerLevel int32\n",
    "  magicNum = 2048\n",
    "  powerLevel = 9001\n",
    "  \n",
    "  fmt.Println(\"magicNum is:\", magicNum, \"powerLevel is:\", powerLevel)\n",
    "  \n",
    "  // Define amount and unit below:\n",
    "  amount, unit := 10, \"doll hairs\"\n",
    "  \n",
    "  fmt.Println(amount, unit, \", that's expensive...\")\n",
    "}"
   ]
  },
  {
   "cell_type": "code",
   "execution_count": 14,
   "id": "1d6319d6-a3d6-4d9c-9746-bffc3b35e007",
   "metadata": {},
   "outputs": [
    {
     "name": "stdout",
     "output_type": "stream",
     "text": [
      "Congratulations!!!\n",
      "What else can you do?\n",
      "Pratice is important!\n"
     ]
    }
   ],
   "source": [
    "// package main\n",
    "\n",
    "import \"fmt\"\n",
    "\n",
    "func main() {\n",
    "\tvar congrats string\n",
    "  congrats = \"Congratulations\"\n",
    "  congrats += \"!!!\"\n",
    "  fmt.Println(congrats)\n",
    "  \n",
    "  var challenge string = \"What else can you do?\"\n",
    "  fmt.Println(challenge)\n",
    "  \n",
    "  reminder := \"Pratice is important!\"\n",
    "  fmt.Println(reminder)\n",
    "}"
   ]
  },
  {
   "cell_type": "code",
   "execution_count": 15,
   "id": "f897fed8-f20e-40a8-b523-bf7ae0bbb6b0",
   "metadata": {},
   "outputs": [
    {
     "name": "stdout",
     "output_type": "stream",
     "text": [
      "Mr. GoToSleep written by Tracey Hatchet drawn by Jewel Tampson published by DizzyBooks Publishing Inc. in 1997 having 14 pages graded with 6.5\n",
      "Epic Vol. 1 written by Ryan N. Shawn drawn by Phoebe Paperclips published by DizzyBooks Publishing Inc. in 2013 having 160 pages graded with 9\n"
     ]
    }
   ],
   "source": [
    "// package main\n",
    "\n",
    "import \"fmt\"\n",
    "\n",
    "func main() {\n",
    "  var publisher string\n",
    "  var writer string\n",
    "  var artist string\n",
    "  var title string\n",
    "\n",
    "  var year int\n",
    "  var pageNumber int\n",
    "\n",
    "  var grade float32\n",
    "\n",
    "  title = \"Mr. GoToSleep\"\n",
    "  writer = \"Tracey Hatchet\"\n",
    "  artist = \"Jewel Tampson\"\n",
    "  publisher = \"DizzyBooks Publishing Inc.\"\n",
    "  \n",
    "  year = 1997\n",
    "  pageNumber = 14\n",
    "\n",
    "  grade = 6.5\n",
    "\n",
    "  fmt.Println(title, \"written by\", writer, \"drawn by\", artist, \"published by\", publisher, \"in\", year, \"having\", pageNumber, \"pages\", \"graded with\", grade)\n",
    " \n",
    "  title = \"Epic Vol. 1\"\n",
    "  writer = \"Ryan N. Shawn\"\n",
    "  artist = \"Phoebe Paperclips\"\n",
    "  publisher = \"DizzyBooks Publishing Inc.\"\n",
    "  \n",
    "  year = 2013\n",
    "  pageNumber = 160\n",
    "\n",
    "  grade = 9.0\n",
    "\n",
    "  fmt.Println(title, \"written by\", writer, \"drawn by\", artist, \"published by\", publisher, \"in\", year, \"having\", pageNumber, \"pages\", \"graded with\", grade)\n",
    "}"
   ]
  }
 ],
 "metadata": {
  "kernelspec": {
   "display_name": "Go (gonb)",
   "language": "go",
   "name": "gonb"
  },
  "language_info": {
   "codemirror_mode": "",
   "file_extension": ".go",
   "mimetype": "",
   "name": "go",
   "nbconvert_exporter": "",
   "pygments_lexer": "",
   "version": "go1.21.0"
  }
 },
 "nbformat": 4,
 "nbformat_minor": 5
}
