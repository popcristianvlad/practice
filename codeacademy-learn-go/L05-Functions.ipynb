{
 "cells": [
  {
   "cell_type": "code",
   "execution_count": 1,
   "id": "9d10df9c-080e-430a-9a37-e188e6404edc",
   "metadata": {},
   "outputs": [
    {
     "name": "stdout",
     "output_type": "stream",
     "text": [
      "Yum!\n"
     ]
    }
   ],
   "source": [
    "// package main\n",
    "\n",
    "import \"fmt\"\n",
    "\n",
    "// Define eatTacos() here:\n",
    "func eatTacos() {\n",
    "  fmt.Println(\"Yum!\")\n",
    "}\n",
    "\n",
    "func main() {\n",
    "  // Call your function here:\n",
    "  eatTacos()\n",
    "}"
   ]
  },
  {
   "cell_type": "code",
   "execution_count": 2,
   "id": "df6c2867-8ff7-42eb-9aeb-c8e0b3047531",
   "metadata": {},
   "outputs": [
    {
     "name": "stdout",
     "output_type": "stream",
     "text": [
      "Press enter to start...\n"
     ]
    }
   ],
   "source": [
    "// package main\n",
    "\n",
    "import \"fmt\"\n",
    "\n",
    "func startGame() {\n",
    "  instructions := \"Press enter to start...\" \n",
    "  fmt.Println(instructions)\n",
    "}\n",
    "\n",
    "func main() {\n",
    "  startGame()\n",
    "}"
   ]
  },
  {
   "cell_type": "code",
   "execution_count": 3,
   "id": "c5b28e44-a4b8-4cd9-a34e-b1493e81704f",
   "metadata": {},
   "outputs": [
    {
     "name": "stdout",
     "output_type": "stream",
     "text": [
      "It's not late at all!\n"
     ]
    }
   ],
   "source": [
    "// package main\n",
    "import (\n",
    "  \"fmt\"\n",
    "  \"time\"\n",
    ")\n",
    "\n",
    "// Add \"string\" as the return type of this function\n",
    "func isItLateInNewYork() string {\n",
    "  var lateMessage string\n",
    "  t := time.Now()\n",
    "  tz, _ := time.LoadLocation(\"America/New_York\")\n",
    "  nyHour := t.In(tz).Hour()\n",
    "  if nyHour < 5 {\n",
    "    lateMessage = \"Goodness it is late\"\n",
    "  } else if nyHour < 16 {\n",
    "    lateMessage = \"It's not late at all!\"\n",
    "  } else if nyHour < 19 {\n",
    "    lateMessage = \"I guess it's getting kind of late\"\n",
    "  } else {\n",
    "    lateMessage = \"It's late\"\n",
    "  }\n",
    "  \n",
    "  // Return the string lateMessage\n",
    "  return lateMessage\n",
    "}\n",
    "\n",
    "func main() {\n",
    "  var nyLate string\n",
    "  nyLate = isItLateInNewYork()\n",
    "  fmt.Println(nyLate)\n",
    "}"
   ]
  },
  {
   "cell_type": "code",
   "execution_count": 4,
   "id": "8a974539-9194-400f-81b9-95cbd0b339d9",
   "metadata": {},
   "outputs": [
    {
     "name": "stdout",
     "output_type": "stream",
     "text": [
      "13\n"
     ]
    }
   ],
   "source": [
    "// package main\n",
    "import \"fmt\"\n",
    "\n",
    "// Update marsYear so that it takes earthYears\n",
    "// As a parameter\n",
    "func computeMarsYears(earthYears int) int {\n",
    "  // Remove earthYears definition within marsYear\n",
    "  \n",
    "  earthDays := earthYears * 365\n",
    "  marsYears := earthDays / 687\n",
    "  return marsYears\n",
    "}\n",
    "\n",
    "func main() {\n",
    "  myAge := 25\n",
    "  \n",
    "  // Call `marsYear` with `myAge`\n",
    "  myMartianAge := computeMarsYears(myAge)\n",
    "  fmt.Println(myMartianAge)\n",
    "}"
   ]
  },
  {
   "cell_type": "code",
   "execution_count": 7,
   "id": "b698a100-82e4-4ac5-a5ce-5efb5c272406",
   "metadata": {},
   "outputs": [
    {
     "name": "stdout",
     "output_type": "stream",
     "text": [
      "-2.773012568702435 0.35160813159476134 -0.8162381064980646 0.10716471877293576\n"
     ]
    }
   ],
   "source": [
    "// package main\n",
    "import (\n",
    "  \"math\"\n",
    "  \"fmt\"\n",
    ")\n",
    "\n",
    "// Define specialComputation() here\n",
    "func specialComputation(x float64) float64 {\n",
    "  return math.Log2(math.Sqrt(math.Tan(x)))\n",
    "}\n",
    "\n",
    "func main() {\n",
    "  var a, b, c, d float64\n",
    "  a = .0214\n",
    "  b = 1.02\n",
    "  c = 0.312\n",
    "  d = 4.001\n",
    "  \n",
    "  // Replace the following four lines with specialComputation()\n",
    "  a = specialComputation(a)\n",
    "  b = specialComputation(b)\n",
    "  c = specialComputation(c)\n",
    "  d = specialComputation(d)\n",
    "  \n",
    "  fmt.Println(a, b, c, d)\n",
    "}"
   ]
  },
  {
   "cell_type": "code",
   "execution_count": 9,
   "id": "a83ce385-1941-4db4-aa1a-7c272c0fc204",
   "metadata": {},
   "outputs": [
    {
     "name": "stdout",
     "output_type": "stream",
     "text": [
      "Likes:  7 Shares:  9\n",
      "Woohoo! We got some likes.\n"
     ]
    }
   ],
   "source": [
    "// package main\n",
    "import \"fmt\"\n",
    "\n",
    "// Multiple Return Values\n",
    "\n",
    "// Update getLikesAndShares to return two ints\n",
    "func getLikesAndShares(postId int) (int, int) {\n",
    "  var likesForPost, sharesForPost int\n",
    "  switch postId {\n",
    "  case 1:\n",
    "    likesForPost = 5\n",
    "    sharesForPost = 7\n",
    "  case 2:\n",
    "    likesForPost = 3\n",
    "    sharesForPost = 11\n",
    "  case 3:\n",
    "    likesForPost = 22\n",
    "    sharesForPost = 1\n",
    "  case 4:\n",
    "    likesForPost = 7\n",
    "    sharesForPost = 9\n",
    "  }\n",
    "  fmt.Println(\"Likes: \", likesForPost, \"Shares: \", sharesForPost)\n",
    "  // Add in a return for likesForPost and sharesForPost\n",
    "  \n",
    "  return likesForPost, sharesForPost\n",
    "}\n",
    "\n",
    "func main() {\n",
    "  var likes, shares int\n",
    "  \n",
    "  // Update this line so the results of the function\n",
    "  // get stored in \"likes\" and \"shares\"\n",
    "  likes, shares = getLikesAndShares(4)\n",
    "  \n",
    "  if likes > 5 {\n",
    "    fmt.Println(\"Woohoo! We got some likes.\")\n",
    "  }\n",
    "  if shares > 10 {\n",
    "    fmt.Println(\"We went viral!\")\n",
    "  }\n",
    "}"
   ]
  },
  {
   "cell_type": "code",
   "execution_count": 11,
   "id": "cbd05a6e-6cce-4e05-8927-5457d239d9d7",
   "metadata": {},
   "outputs": [
    {
     "name": "stdout",
     "output_type": "stream",
     "text": [
      "Connecting to the database.\n",
      "NAME|DOB\n",
      "Vincent Van Gogh|March 30, 1853\n",
      "Disconnecting from the database.\n"
     ]
    }
   ],
   "source": [
    "// package main\n",
    "import \"fmt\"\n",
    "\n",
    "// 'defer' keyword tells Go to run a function, but at the end of the current function.\n",
    "\n",
    "func queryDatabase(query string) string {\n",
    "  defer disconnectDatabase()\n",
    "  var result string\n",
    "  connectDatabase()\n",
    "  // Add deferred call to disconnectDatabase() here\n",
    "  \n",
    "  if query == \"SELECT * FROM coolTable;\" {\n",
    "    result = \"NAME|DOB\\nVincent Van Gogh|March 30, 1853\"\n",
    "  }  \n",
    "  fmt.Println(result)\n",
    "  return result\n",
    "}\n",
    "\n",
    "func connectDatabase() {\n",
    "  fmt.Println(\"Connecting to the database.\")\n",
    "}\n",
    "\n",
    "func disconnectDatabase() {\n",
    "  fmt.Println(\"Disconnecting from the database.\")\n",
    "}\n",
    "\n",
    "func main() {\n",
    "  queryDatabase(\"SELECT * FROM coolTable;\")\n",
    "}"
   ]
  },
  {
   "cell_type": "code",
   "execution_count": 12,
   "id": "05dab992-fcbc-41e1-8def-fac29c1fcebf",
   "metadata": {},
   "outputs": [
    {
     "name": "stdout",
     "output_type": "stream",
     "text": [
      "Wellcome to Venus\n",
      "700000\n"
     ]
    }
   ],
   "source": [
    "// package main\n",
    "\n",
    "import \"fmt\"\n",
    "\n",
    "func fuelGauge(fuel int) {\n",
    "  fmt.Println(fuel)\n",
    "}\n",
    "\n",
    "func calculateFuel(planet string) int {\n",
    "  var fuel int\n",
    "  switch planet {\n",
    "    case \"Venus\": \n",
    "      fuel = 300000\n",
    "    case \"Mercury\":\n",
    "      fuel = 500000\n",
    "    case \"Mars\":\n",
    "      fuel = 700000\n",
    "    default:\n",
    "      fuel = 0\n",
    "  }\n",
    "\n",
    "  return fuel\n",
    "}\n",
    "\n",
    "func greetPlanet(planet string) {\n",
    "  fmt.Println(\"Wellcome to\", planet)\n",
    "}\n",
    "\n",
    "func cantFly() {\n",
    "  fmt.Println(\"We do not have the available fuel to fly there.\")\n",
    "}\n",
    "\n",
    "func flyToPlanet(planet string, fuel int) int {\n",
    "  var fuelRemaining, fuelCost int\n",
    "  fuelRemaining = fuel\n",
    "  fuelCost = calculateFuel(planet)\n",
    "\n",
    "  if fuelRemaining >= fuelCost {\n",
    "    greetPlanet(planet)\n",
    "    fuelRemaining -= fuelCost\n",
    "  } else {\n",
    "    cantFly()\n",
    "  }\n",
    "\n",
    "  return fuelRemaining\n",
    "}\n",
    "\n",
    "func main() {\n",
    "  var fuel = 1000000\n",
    "  var planetChoice = \"Venus\"\n",
    "  \n",
    "  fuel = flyToPlanet(planetChoice, fuel)\n",
    "\n",
    "  fuelGauge(fuel)\n",
    "}"
   ]
  },
  {
   "cell_type": "code",
   "execution_count": 18,
   "id": "5ee95392-c0ba-4134-8888-2d8efa04a6df",
   "metadata": {},
   "outputs": [
    {
     "name": "stdout",
     "output_type": "stream",
     "text": [
      "1\n"
     ]
    }
   ],
   "source": [
    "// package main\n",
    "\n",
    "import \"fmt\"\n",
    "\n",
    "// Go is a pass-by-value language. In other words, we’re passing functions the value of an argument\n",
    "\n",
    "func addHundred(num int) {\n",
    "  num += 100\n",
    "}\n",
    "\n",
    "func main() {\n",
    "  x := 1\n",
    "  \n",
    "  addHundred(x)\n",
    "  \n",
    "  fmt.Println(x) \n",
    "}"
   ]
  },
  {
   "cell_type": "code",
   "execution_count": 14,
   "id": "67ff1f91-9391-49e3-be4e-32e02aaae540",
   "metadata": {},
   "outputs": [
    {
     "name": "stdout",
     "output_type": "stream",
     "text": [
      "0xc000116020\n"
     ]
    }
   ],
   "source": [
    "// package main\n",
    "\n",
    "import \"fmt\"\n",
    "\n",
    "func main() {\n",
    "\ttreasure := \"The friends we make along the way.\"\n",
    "\t\n",
    "\tfmt.Println(&treasure)\n",
    "}"
   ]
  },
  {
   "cell_type": "code",
   "execution_count": 21,
   "id": "4b6dfd1d-cb88-4906-bae9-9a5ee99125a9",
   "metadata": {},
   "outputs": [
    {
     "name": "stdout",
     "output_type": "stream",
     "text": [
      "0xc0000120b0\n",
      "The address of star is 0xc000014070\n"
     ]
    }
   ],
   "source": [
    "// package main\n",
    "\n",
    "import \"fmt\"\n",
    "\n",
    "func main() {\n",
    "  var pointerForInt *int\n",
    "  minutes := 525600\n",
    "  pointerForInt = &minutes\n",
    "  fmt.Println(pointerForInt) // Prints 0xc000018038\n",
    "\n",
    "  // the * operator signifies that this variable will store an address and the int portion means that the address contains an integer value.\n",
    "\n",
    "  star := \"Polaris\"\n",
    "  starAddress := &star\n",
    "\n",
    "  fmt.Println(\"The address of star is\", starAddress)\n",
    "}"
   ]
  },
  {
   "cell_type": "code",
   "execution_count": 22,
   "id": "3dba6d23-ecca-40bd-9c45-5ed8618c5a4c",
   "metadata": {},
   "outputs": [
    {
     "name": "stdout",
     "output_type": "stream",
     "text": [
      "The actual value of star is Sirius\n"
     ]
    }
   ],
   "source": [
    "// package main\n",
    "\n",
    "import \"fmt\"\n",
    "\n",
    "func main() {\n",
    "    // We can actually use our pointer to access the address and change its value! This action is called dereferencing or indirecting.\n",
    "    \n",
    "\tstar := \"Polaris\"\n",
    "\t\n",
    "\tstarAddress := &star\n",
    "\t\n",
    "    *starAddress = \"Sirius\"\n",
    "\t\n",
    "    fmt.Println(\"The actual value of star is\", star)\n",
    "}"
   ]
  },
  {
   "cell_type": "code",
   "execution_count": 17,
   "id": "8481bd50-5564-47bb-a629-d9b8a9b99968",
   "metadata": {},
   "outputs": [
    {
     "name": "stdout",
     "output_type": "stream",
     "text": [
      "greeting is now: Beep Boop.\n"
     ]
    }
   ],
   "source": [
    "// package main\n",
    "\n",
    "import \"fmt\"\n",
    "\n",
    "// Change brainwash to have a pointer parameter\n",
    "func brainwash(saying *string) {\n",
    "\t// Dereference saying below: \n",
    "\t*saying = \"Beep Boop.\"\n",
    "}\n",
    "\n",
    "func main() {\n",
    "\tgreeting := \"Hello there!\"\n",
    "\t\n",
    "\t// Call your brainwash() below:\n",
    "\tbrainwash(&greeting)\n",
    "\t\n",
    "\tfmt.Println(\"greeting is now:\", greeting)\n",
    "}"
   ]
  }
 ],
 "metadata": {
  "kernelspec": {
   "display_name": "Go (gonb)",
   "language": "go",
   "name": "gonb"
  },
  "language_info": {
   "codemirror_mode": "",
   "file_extension": ".go",
   "mimetype": "",
   "name": "go",
   "nbconvert_exporter": "",
   "pygments_lexer": "",
   "version": "go1.21.0"
  }
 },
 "nbformat": 4,
 "nbformat_minor": 5
}
