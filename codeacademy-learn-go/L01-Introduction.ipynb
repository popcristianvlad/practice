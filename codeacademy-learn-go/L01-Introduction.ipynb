{
 "cells": [
  {
   "cell_type": "code",
   "execution_count": 12,
   "id": "11c19fa1-f958-4513-ad36-3b7c63d32d0e",
   "metadata": {},
   "outputs": [
    {
     "name": "stdout",
     "output_type": "stream",
     "text": [
      "Hello World\n",
      "2023-09-08 20:17:13.323102673 +0000 UTC m=+0.000031821\n",
      "go build greet.go\n",
      "ls\n",
      "./greet\n",
      "go run greet.go\n",
      "Using the 'go doc' command is helpful\n",
      "You can find out more about a package\n",
      "Or about a function inside the package\n",
      "Try it out in the terminal!\n",
      "  __      _\n",
      "o'')}____//\n",
      " `_/      )\n",
      " (_(_/-(_/ \n"
     ]
    }
   ],
   "source": [
    "// package main\n",
    "\n",
    "import \"fmt\"\n",
    "import t \"time\"\n",
    "\n",
    "func main() {\n",
    "    // Main code\n",
    "\tfmt.Println(\"Hello World\")\n",
    "    fmt.Println(t.Now())\n",
    "\n",
    "    // Go commands:\n",
    "    fmt.Println(\"go build greet.go\")\n",
    "    fmt.Println(\"ls\")\n",
    "    fmt.Println(\"./greet\")\n",
    "    fmt.Println(\"go run greet.go\")\n",
    "\n",
    "    /*\n",
    "    Some commented code\n",
    "    */\n",
    "    \n",
    "    fmt.Println(\"Using the 'go doc' command is helpful\")\n",
    "    fmt.Println(\"You can find out more about a package\")\n",
    "    fmt.Println(\"Or about a function inside the package\")\n",
    "    fmt.Println(\"Try it out in the terminal!\")\n",
    "\n",
    "\n",
    "    fmt.Println(\"  __      _\")\n",
    "    fmt.Println(\"o'')}____//\")\n",
    "    fmt.Println(\" `_/      )\")\n",
    "    fmt.Println(\" (_(_/-(_/ \")\n",
    "}"
   ]
  },
  {
   "cell_type": "code",
   "execution_count": null,
   "id": "bbb2e7e4-822c-4038-90dd-cf74c1742124",
   "metadata": {},
   "outputs": [],
   "source": []
  }
 ],
 "metadata": {
  "kernelspec": {
   "display_name": "Go (gonb)",
   "language": "go",
   "name": "gonb"
  },
  "language_info": {
   "codemirror_mode": "",
   "file_extension": ".go",
   "mimetype": "",
   "name": "go",
   "nbconvert_exporter": "",
   "pygments_lexer": "",
   "version": "go1.21.0"
  }
 },
 "nbformat": 4,
 "nbformat_minor": 5
}
