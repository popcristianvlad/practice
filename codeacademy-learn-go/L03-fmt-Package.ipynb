{
 "cells": [
  {
   "cell_type": "code",
   "execution_count": 3,
   "id": "36df42bd-870f-4c5d-9517-205aea125468",
   "metadata": {},
   "outputs": [
    {
     "name": "stdout",
     "output_type": "stream",
     "text": [
      "Can you tell the difference?\n",
      "Betweenthesetwomethods?Anything odd aboutthe spacing? \n",
      "Don't worry if you can't spot it, we'll go through this together!\n"
     ]
    }
   ],
   "source": [
    "// package main\n",
    "\n",
    "import \"fmt\"\n",
    "\n",
    "func main() {\n",
    "  // fmt - pronounced \"fumpt\"\n",
    "  // There's a mix of Println and Print!\n",
    "  fmt.Println(\"Can\", \"you\", \"tell\", \"the\", \"difference?\")\n",
    "  fmt.Print(\"Between\", \"these\", \"two\", \"methods?\")\n",
    "  fmt.Print(\"Anything odd about\", \"the spacing? \\n\")\n",
    "  fmt.Println(\"Don't worry if you can't spot it, we'll go through this together!\")\n",
    "\n",
    "  // fmt.Print()\n",
    "  //   doesn't have default spacing\n",
    "  //   doesn't add new line\n",
    "}"
   ]
  },
  {
   "cell_type": "code",
   "execution_count": 4,
   "id": "67d07ae9-b9a9-467c-ba67-c3241207b308",
   "metadata": {},
   "outputs": [
    {
     "name": "stdout",
     "output_type": "stream",
     "text": [
      "Let's first see how the Println() method works.\n",
      "Notice that each statement adds a newline for us.\n",
      "There's also a default space between the string arguments.\n",
      "PrintisdifferentSee?"
     ]
    }
   ],
   "source": [
    "// package main\n",
    "\n",
    "import \"fmt\"\n",
    "\n",
    "func main() {\n",
    "  fmt.Println(\"Let's first see how\", \"the Println() method works.\")\n",
    "  fmt.Println(\"Notice that each statement adds a newline for us.\")\n",
    "  fmt.Println(\"There's also a default space\", \"between the string arguments.\")\n",
    "  \n",
    "  // Add your code below:\n",
    "  fmt.Print(\"Print\", \"is\", \"different\")\n",
    "  fmt.Print(\"See?\")\n",
    "}"
   ]
  },
  {
   "cell_type": "code",
   "execution_count": 5,
   "id": "5450b30c-3114-4ae1-b86e-900b800df818",
   "metadata": {},
   "outputs": [
    {
     "name": "stdout",
     "output_type": "stream",
     "text": [
      "Are you a cat or a dog person?"
     ]
    }
   ],
   "source": [
    "// package main\n",
    "\n",
    "import \"fmt\"\n",
    "\n",
    "func main() {\n",
    "  animal1 := \"cat\"\n",
    "  animal2 := \"dog\"\n",
    "  \n",
    "  // Add your code below:\n",
    "  fmt.Printf(\"Are you a %v or a %v person?\", animal1, animal2)\n",
    "}"
   ]
  },
  {
   "cell_type": "code",
   "execution_count": 6,
   "id": "1d0c5439-d780-4401-a7d6-47759ad6e2fb",
   "metadata": {},
   "outputs": [
    {
     "name": "stdout",
     "output_type": "stream",
     "text": [
      "Working with a float64\n",
      "***\n",
      "I have 3 years of Go experience and this job is asking for 15 years.\n",
      "***\n",
      "Each share of Gopher feed is $3.50!"
     ]
    }
   ],
   "source": [
    "// package main\n",
    "\n",
    "import \"fmt\"\n",
    "\n",
    "func main() {\n",
    "  floatExample := 1.75\n",
    "  // Edit the following Printf for the FIRST step\n",
    "  fmt.Printf(\"Working with a %T\", floatExample) \n",
    "  \n",
    "  fmt.Println(\"\\n***\") // Added for spacing\n",
    "  \n",
    "  yearsOfExp := 3\n",
    "  reqYearsExp := 15\n",
    "  // Edit the following Printf for the SECOND step\n",
    "  fmt.Printf(\"I have %d years of Go experience and this job is asking for %d years.\", yearsOfExp, reqYearsExp) \n",
    "  \n",
    "  fmt.Println(\"\\n***\") // Added for spacing\n",
    "  \n",
    "  stockPrice := 3.50\n",
    "  // Edit the following Printf for the THIRD step\n",
    "  fmt.Printf(\"Each share of Gopher feed is $%.2f!\", stockPrice) \n",
    "}"
   ]
  },
  {
   "cell_type": "code",
   "execution_count": 7,
   "id": "93da116d-3804-417c-bc1e-c39ffccf7932",
   "metadata": {},
   "outputs": [
    {
     "name": "stdout",
     "output_type": "stream",
     "text": [
      "Breathe in... Breathe out...\n",
      "\n"
     ]
    }
   ],
   "source": [
    "// package main\n",
    "\n",
    "import \"fmt\"\n",
    "\n",
    "func main() {\n",
    "  step1 := \"Breathe in...\"\n",
    "  step2 := \"Breathe out...\"\n",
    "  \n",
    "  // Add your code below:\n",
    "  meditation := fmt.Sprintln(step1, step2)\n",
    "  fmt.Println(meditation)\n",
    "}"
   ]
  },
  {
   "cell_type": "code",
   "execution_count": 8,
   "id": "5affde80-1cc5-4f25-905f-48c53366590b",
   "metadata": {},
   "outputs": [
    {
     "name": "stdout",
     "output_type": "stream",
     "text": [
      "I wish I had a puppy.\n"
     ]
    }
   ],
   "source": [
    "// package main\n",
    "\n",
    "import \"fmt\"\n",
    "\n",
    "func main() {\n",
    "  template := \"I wish I had a %v.\"\n",
    "  pet := \"puppy\"\n",
    "  \n",
    "  var wish string\n",
    "  \n",
    "  // Add your code below:\n",
    "  wish = fmt.Sprintf(template, pet)\n",
    "  \n",
    "  fmt.Println(wish)\n",
    "}"
   ]
  },
  {
   "cell_type": "code",
   "execution_count": null,
   "id": "81a47c23-3fa9-44e1-866f-635bdeb852d5",
   "metadata": {},
   "outputs": [],
   "source": [
    "// package main\n",
    "\n",
    "import \"fmt\"\n",
    "\n",
    "func main() {\n",
    "  fmt.Println(\"What would you like for lunch?\")\n",
    "  \n",
    "  // Add your code below:\n",
    "  var food string\n",
    "  fmt.Scan(&food)\n",
    "\n",
    "  fmt.Printf(\"Sure, we can have %v for lunch.\", food)\n",
    "}"
   ]
  }
 ],
 "metadata": {
  "kernelspec": {
   "display_name": "Go (gonb)",
   "language": "go",
   "name": "gonb"
  },
  "language_info": {
   "codemirror_mode": "",
   "file_extension": ".go",
   "mimetype": "",
   "name": "go",
   "nbconvert_exporter": "",
   "pygments_lexer": "",
   "version": "go1.21.0"
  }
 },
 "nbformat": 4,
 "nbformat_minor": 5
}
